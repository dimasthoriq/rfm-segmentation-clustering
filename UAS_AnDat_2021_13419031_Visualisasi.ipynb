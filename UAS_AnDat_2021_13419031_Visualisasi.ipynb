{
 "cells": [
  {
   "cell_type": "markdown",
   "id": "780435f9",
   "metadata": {},
   "source": [
    "# Statistika Deskriptif dan Visualisasi"
   ]
  },
  {
   "cell_type": "code",
   "execution_count": 2,
   "id": "7e632fbd",
   "metadata": {},
   "outputs": [],
   "source": [
    "#import packages libraries\n",
    "import numpy as np\n",
    "import pandas as pd\n",
    "import seaborn as sns\n",
    "import matplotlib.pyplot as plt\n",
    "import matplotlib as mpl\n",
    "from datetime import datetime\n",
    "from scipy import stats\n",
    "from sklearn.preprocessing import StandardScaler\n",
    "from pandas_profiling import ProfileReport"
   ]
  },
  {
   "cell_type": "code",
   "execution_count": 3,
   "id": "5d411fb0",
   "metadata": {},
   "outputs": [],
   "source": [
    "#import dataset after cleaning & preprocessing\n",
    "dataset = pd.read_excel('dataset visualisasi.xlsx')"
   ]
  },
  {
   "cell_type": "code",
   "execution_count": 5,
   "id": "e9387793",
   "metadata": {},
   "outputs": [
    {
     "data": {
      "text/html": [
       "<div>\n",
       "<style scoped>\n",
       "    .dataframe tbody tr th:only-of-type {\n",
       "        vertical-align: middle;\n",
       "    }\n",
       "\n",
       "    .dataframe tbody tr th {\n",
       "        vertical-align: top;\n",
       "    }\n",
       "\n",
       "    .dataframe thead th {\n",
       "        text-align: right;\n",
       "    }\n",
       "</style>\n",
       "<table border=\"1\" class=\"dataframe\">\n",
       "  <thead>\n",
       "    <tr style=\"text-align: right;\">\n",
       "      <th></th>\n",
       "      <th>Gudang</th>\n",
       "      <th>Kode Pelanggan</th>\n",
       "      <th>Kategori Pelanggan</th>\n",
       "      <th>Kode Produk</th>\n",
       "      <th>Kategori Produk</th>\n",
       "      <th>Tanggal</th>\n",
       "      <th>No.Transaksi</th>\n",
       "      <th>Qty</th>\n",
       "      <th>Harga Bruto</th>\n",
       "      <th>Qty Trans</th>\n",
       "      <th>Harga Bruto Trans</th>\n",
       "    </tr>\n",
       "  </thead>\n",
       "  <tbody>\n",
       "    <tr>\n",
       "      <th>0</th>\n",
       "      <td>GGS</td>\n",
       "      <td>3170950</td>\n",
       "      <td>GRO</td>\n",
       "      <td>WJ-CHY-SP-12-SDR13</td>\n",
       "      <td>WAJAN</td>\n",
       "      <td>2018-09-01 00:00:00</td>\n",
       "      <td>2.83-180306.1125-504</td>\n",
       "      <td>3.0</td>\n",
       "      <td>18000</td>\n",
       "      <td>1.098612</td>\n",
       "      <td>134.164079</td>\n",
       "    </tr>\n",
       "    <tr>\n",
       "      <th>1</th>\n",
       "      <td>GGS</td>\n",
       "      <td>3170950</td>\n",
       "      <td>GRO</td>\n",
       "      <td>WJ-CHY-SP-16-SDR13</td>\n",
       "      <td>WAJAN</td>\n",
       "      <td>2018-09-01 00:00:00</td>\n",
       "      <td>2.83-180306.1125-504</td>\n",
       "      <td>3.0</td>\n",
       "      <td>33500</td>\n",
       "      <td>1.098612</td>\n",
       "      <td>183.030052</td>\n",
       "    </tr>\n",
       "    <tr>\n",
       "      <th>2</th>\n",
       "      <td>GGS</td>\n",
       "      <td>3170950</td>\n",
       "      <td>GRO</td>\n",
       "      <td>WJ-CHY-SP-18-SDR13</td>\n",
       "      <td>WAJAN</td>\n",
       "      <td>2018-09-01 00:00:00</td>\n",
       "      <td>2.83-180306.1125-504</td>\n",
       "      <td>3.0</td>\n",
       "      <td>48500</td>\n",
       "      <td>1.098612</td>\n",
       "      <td>220.227156</td>\n",
       "    </tr>\n",
       "    <tr>\n",
       "      <th>3</th>\n",
       "      <td>GGS</td>\n",
       "      <td>3170950</td>\n",
       "      <td>GRO</td>\n",
       "      <td>WJ-CHY-SP-22-SDR13</td>\n",
       "      <td>WAJAN</td>\n",
       "      <td>2018-09-01 00:00:00</td>\n",
       "      <td>2.83-180306.1125-504</td>\n",
       "      <td>3.0</td>\n",
       "      <td>65000</td>\n",
       "      <td>1.098612</td>\n",
       "      <td>254.950976</td>\n",
       "    </tr>\n",
       "    <tr>\n",
       "      <th>4</th>\n",
       "      <td>GGS</td>\n",
       "      <td>3170950</td>\n",
       "      <td>GRO</td>\n",
       "      <td>WJ-CHY-SP-20-SDR13</td>\n",
       "      <td>WAJAN</td>\n",
       "      <td>2018-09-01 00:00:00</td>\n",
       "      <td>2.83-180306.1125-504</td>\n",
       "      <td>3.0</td>\n",
       "      <td>55000</td>\n",
       "      <td>1.098612</td>\n",
       "      <td>234.520788</td>\n",
       "    </tr>\n",
       "    <tr>\n",
       "      <th>5</th>\n",
       "      <td>GGS</td>\n",
       "      <td>3170950</td>\n",
       "      <td>GRO</td>\n",
       "      <td>WJ-CHY-SP-24-SDR13</td>\n",
       "      <td>WAJAN</td>\n",
       "      <td>2018-09-01 00:00:00</td>\n",
       "      <td>2.83-180306.1125-504</td>\n",
       "      <td>1.0</td>\n",
       "      <td>105000</td>\n",
       "      <td>0.000000</td>\n",
       "      <td>324.037035</td>\n",
       "    </tr>\n",
       "    <tr>\n",
       "      <th>6</th>\n",
       "      <td>GGS</td>\n",
       "      <td>3170950</td>\n",
       "      <td>GRO</td>\n",
       "      <td>WJ-CHY-SP-28-SDR13</td>\n",
       "      <td>WAJAN</td>\n",
       "      <td>2018-09-01 00:00:00</td>\n",
       "      <td>2.83-180306.1125-504</td>\n",
       "      <td>1.0</td>\n",
       "      <td>192500</td>\n",
       "      <td>0.000000</td>\n",
       "      <td>438.748219</td>\n",
       "    </tr>\n",
       "    <tr>\n",
       "      <th>7</th>\n",
       "      <td>GGS</td>\n",
       "      <td>3170950</td>\n",
       "      <td>GRO</td>\n",
       "      <td>TONG-196001</td>\n",
       "      <td>TONG</td>\n",
       "      <td>2018-09-01 00:00:00</td>\n",
       "      <td>2.83-180306.1125-504</td>\n",
       "      <td>0.5</td>\n",
       "      <td>417000</td>\n",
       "      <td>-0.693147</td>\n",
       "      <td>645.755372</td>\n",
       "    </tr>\n",
       "    <tr>\n",
       "      <th>8</th>\n",
       "      <td>GGS</td>\n",
       "      <td>3170950</td>\n",
       "      <td>GRO</td>\n",
       "      <td>TONG-196001</td>\n",
       "      <td>TONG</td>\n",
       "      <td>2018-09-01 00:00:00</td>\n",
       "      <td>2.83-180306.1125-504</td>\n",
       "      <td>3.0</td>\n",
       "      <td>35000</td>\n",
       "      <td>1.098612</td>\n",
       "      <td>187.082869</td>\n",
       "    </tr>\n",
       "    <tr>\n",
       "      <th>9</th>\n",
       "      <td>GGS</td>\n",
       "      <td>3170950</td>\n",
       "      <td>GRO</td>\n",
       "      <td>TIMBA-TC14-WS-HJ</td>\n",
       "      <td>TIMBA</td>\n",
       "      <td>2018-09-01 00:00:00</td>\n",
       "      <td>2.83-180306.1125-504</td>\n",
       "      <td>3.0</td>\n",
       "      <td>66000</td>\n",
       "      <td>1.098612</td>\n",
       "      <td>256.904652</td>\n",
       "    </tr>\n",
       "  </tbody>\n",
       "</table>\n",
       "</div>"
      ],
      "text/plain": [
       "  Gudang Kode Pelanggan Kategori Pelanggan         Kode Produk  \\\n",
       "0    GGS        3170950                GRO  WJ-CHY-SP-12-SDR13   \n",
       "1    GGS        3170950                GRO  WJ-CHY-SP-16-SDR13   \n",
       "2    GGS        3170950                GRO  WJ-CHY-SP-18-SDR13   \n",
       "3    GGS        3170950                GRO  WJ-CHY-SP-22-SDR13   \n",
       "4    GGS        3170950                GRO  WJ-CHY-SP-20-SDR13   \n",
       "5    GGS        3170950                GRO  WJ-CHY-SP-24-SDR13   \n",
       "6    GGS        3170950                GRO  WJ-CHY-SP-28-SDR13   \n",
       "7    GGS        3170950                GRO         TONG-196001   \n",
       "8    GGS        3170950                GRO         TONG-196001   \n",
       "9    GGS        3170950                GRO    TIMBA-TC14-WS-HJ   \n",
       "\n",
       "  Kategori Produk              Tanggal          No.Transaksi  Qty  \\\n",
       "0           WAJAN  2018-09-01 00:00:00  2.83-180306.1125-504  3.0   \n",
       "1           WAJAN  2018-09-01 00:00:00  2.83-180306.1125-504  3.0   \n",
       "2           WAJAN  2018-09-01 00:00:00  2.83-180306.1125-504  3.0   \n",
       "3           WAJAN  2018-09-01 00:00:00  2.83-180306.1125-504  3.0   \n",
       "4           WAJAN  2018-09-01 00:00:00  2.83-180306.1125-504  3.0   \n",
       "5           WAJAN  2018-09-01 00:00:00  2.83-180306.1125-504  1.0   \n",
       "6           WAJAN  2018-09-01 00:00:00  2.83-180306.1125-504  1.0   \n",
       "7            TONG  2018-09-01 00:00:00  2.83-180306.1125-504  0.5   \n",
       "8            TONG  2018-09-01 00:00:00  2.83-180306.1125-504  3.0   \n",
       "9           TIMBA  2018-09-01 00:00:00  2.83-180306.1125-504  3.0   \n",
       "\n",
       "   Harga Bruto  Qty Trans  Harga Bruto Trans  \n",
       "0        18000   1.098612         134.164079  \n",
       "1        33500   1.098612         183.030052  \n",
       "2        48500   1.098612         220.227156  \n",
       "3        65000   1.098612         254.950976  \n",
       "4        55000   1.098612         234.520788  \n",
       "5       105000   0.000000         324.037035  \n",
       "6       192500   0.000000         438.748219  \n",
       "7       417000  -0.693147         645.755372  \n",
       "8        35000   1.098612         187.082869  \n",
       "9        66000   1.098612         256.904652  "
      ]
     },
     "execution_count": 5,
     "metadata": {},
     "output_type": "execute_result"
    }
   ],
   "source": [
    "dataset.head(10)"
   ]
  },
  {
   "cell_type": "code",
   "execution_count": 7,
   "id": "b08edcc9",
   "metadata": {},
   "outputs": [
    {
     "name": "stdout",
     "output_type": "stream",
     "text": [
      "                 Qty    Harga Bruto      Qty Trans  Harga Bruto Trans\n",
      "count  430151.000000  430151.000000  430151.000000      430151.000000\n",
      "mean        1.456851  103756.868395       0.210219         267.985807\n",
      "std         0.942940  128775.969838       0.554101         178.719193\n",
      "min         0.500000       0.000000      -0.693147           0.000000\n",
      "25%         1.000000   18000.000000       0.000000         134.164079\n",
      "50%         1.000000   50000.000000       0.000000         223.606798\n",
      "75%         2.000000  132500.000000       0.693147         364.005494\n",
      "max         5.500000  604000.000000       1.704748         777.174369\n"
     ]
    }
   ],
   "source": [
    "print(dataset.describe())"
   ]
  },
  {
   "cell_type": "code",
   "execution_count": 8,
   "id": "3cc3432e",
   "metadata": {},
   "outputs": [
    {
     "data": {
      "text/plain": [
       "array(['WAJAN', 'TONG', 'TIMBA', 'CORONG', 'LOYANG', 'BOTOL', 'ESKAN',\n",
       "       'CEL', 'SKOPSMP', 'KRJG', 'POT-B', 'TGKPEL', 'DD', 'AKS', 'RAK',\n",
       "       'THERMOS', 'GTGN', 'TRPL', 'MOK', 'LEM', 'PANCI', 'KASUR',\n",
       "       'SETRIKA', 'PIRING', 'MANGKO', 'SENDOK', 'KOMPOR', 'SAPU', 'KIPAS',\n",
       "       'JEPITAN', 'BLENDER', 'BOX', 'TNG', 'PGGN', 'JUMBO', 'RBUC',\n",
       "       'BAKI', 'KRS', 'GELAS', 'RTG', 'PISAU', 'GAYUNG', 'PAYUNG',\n",
       "       'CANGKIR', 'WAKUL', 'T4SRT', 'TOPLES', 'TIKAR', 'T4RT', 'MCM',\n",
       "       'KAKI-DIS', 'SIKAT', 'ALAS', 'DADARAN', 'T4SDK', 'TAS', 'BASI',\n",
       "       'BANGKU', 'MCGG', 'SELANG', 'REG', 'KEMUCING', 'SERBET', 'CET',\n",
       "       'TUTUP', 'KTK', 'BASKOM', 'HS', 'T4PNS', 'TAPISAN', 'T4TISS',\n",
       "       'STDGLS', 'SPRT', 'DISP', 'PRAS', 'LANGS', 'GILINGAN', 'FURNITUR',\n",
       "       'POMPA', 'KOCOKAN', 'SUMBU', 'BKBTL', 'TST', 'BKS-MK', 'JAM',\n",
       "       'PARUTAN', 'KTK-MKN', 'SISIRU', 'KOB', 'PANSTOVE', 'BANGUL',\n",
       "       'MIXER', 'TIMBANGA', 'EMBER', 'JERGEN', 'BINGKAI', 'PERIUK', 'RB',\n",
       "       'TOLA-AIR', 'T4BUAH', 'KM', 'TALENAN', 'BOWL', 'T4SMBL', 'GRP',\n",
       "       'OVEN', 'T4NASI', 'PERLAK', 'KO', 'EROSPAR', 'WOND', 'PLTKUE',\n",
       "       'WADAH', 'ASBAK', 'HANDUK', 'KT', 'T4BMB', 'T4TSKGG', 'BUFFET',\n",
       "       'MJR', 'FD', 'SARINGAN', 'SIRAMAN', 'GOLOK', 'SENTER', 'CANDY',\n",
       "       'BLEK', 'TR', 'VAS', 'HAIRDRYE', 'KUAS', 'KB', 'KL', 'CONTBOX',\n",
       "       'ALAT-PEL', 'KROK', 'SISBOX', 'JS', 'PHTK', 'BOLA', 'T4KUE',\n",
       "       'STOCKPOT', 'HB', 'CONT', 'GUNTING', 'LAKBAN', 'TIANG', 'TEKO',\n",
       "       'KARPET', 'PENUTUP', 'TAMPAH', 'COBEK', 'LAMPU', 'TC', 'TONGSPMH',\n",
       "       'KACA', 'JUICER', 'TG', 'SDTN', 'SALE', 'TROLLY', 'PERASAN', 'SET',\n",
       "       'EROS', 'PALDAG', 'SUMPIT', 'TAPLAK'], dtype=object)"
      ]
     },
     "execution_count": 8,
     "metadata": {},
     "output_type": "execute_result"
    }
   ],
   "source": [
    "dataset[\"Kategori Produk\"].unique()"
   ]
  },
  {
   "cell_type": "code",
   "execution_count": 62,
   "id": "b406a315",
   "metadata": {},
   "outputs": [
    {
     "name": "stdout",
     "output_type": "stream",
     "text": [
      "    Kategori Produk       sum\n",
      "77           LOYANG  35308.00\n",
      "164           WAJAN  28247.50\n",
      "37            GELAS  24480.54\n",
      "96           PIRING  24220.00\n",
      "156          TOPLES  18286.50\n",
      "142             TAS  18089.00\n",
      "112          SENDOK  18074.00\n",
      "100           POT-B  17153.00\n",
      "28               DD  16168.00\n",
      "163           WADAH  15678.50\n"
     ]
    }
   ],
   "source": [
    "#The most sold product categories\n",
    "df = dataset[['Kategori Produk','Qty']].groupby(['Kategori Produk'])['Qty'].sum().reset_index(name='sum').sort_values(['sum'], ascending=False).head(10)\n",
    "print(df)"
   ]
  },
  {
   "cell_type": "code",
   "execution_count": 63,
   "id": "739c1ee2",
   "metadata": {},
   "outputs": [
    {
     "name": "stdout",
     "output_type": "stream",
     "text": [
      "    Kategori Produk       sum\n",
      "77           LOYANG  35308.00\n",
      "164           WAJAN  28247.50\n",
      "37            GELAS  24480.54\n",
      "96           PIRING  24220.00\n",
      "156          TOPLES  18286.50\n",
      "142             TAS  18089.00\n",
      "112          SENDOK  18074.00\n",
      "100           POT-B  17153.00\n",
      "28               DD  16168.00\n",
      "163           WADAH  15678.50\n"
     ]
    }
   ],
   "source": [
    "#convert to dataframe\n",
    "data = pd.DataFrame(df)\n",
    "print(data)"
   ]
  },
  {
   "cell_type": "code",
   "execution_count": 65,
   "id": "f1853f8f",
   "metadata": {},
   "outputs": [
    {
     "data": {
      "image/png": "[encoded data removed]",
      "text/plain": [
       "<Figure size 3600x432 with 1 Axes>"
      ]
     },
     "metadata": {
      "needs_background": "light"
     },
     "output_type": "display_data"
    }
   ],
   "source": [
    "#visualize with bar plot\n",
    "names = data[\"Kategori Produk\"]\n",
    "values = data[\"sum\"]\n",
    "\n",
    "plt.figure(figsize=(50, 6))\n",
    "plt.title(\"Penjualan Terbanyak\", fontsize = 16)\n",
    "plt.xlabel ('Kategori Produk')\n",
    "plt.ylabel('Banyak Penjualan')\n",
    "\n",
    "plt.subplot(131)\n",
    "plt.bar(names, values)\n",
    "plt.show()"
   ]
  },
  {
   "cell_type": "code",
   "execution_count": 6,
   "id": "28fb8fb4",
   "metadata": {},
   "outputs": [
    {
     "data": {
      "text/plain": [
       "Gudang                    3\n",
       "Kode Pelanggan         5704\n",
       "Kategori Pelanggan        4\n",
       "Kode Produk            4663\n",
       "Kategori Produk         167\n",
       "Tanggal                 333\n",
       "No.Transaksi          91774\n",
       "Qty                      64\n",
       "Harga Bruto            1269\n",
       "Qty Trans                64\n",
       "Harga Bruto Trans      1269\n",
       "dtype: int64"
      ]
     },
     "execution_count": 6,
     "metadata": {},
     "output_type": "execute_result"
    }
   ],
   "source": [
    "dataset.nunique()"
   ]
  },
  {
   "cell_type": "code",
   "execution_count": 20,
   "id": "81d80cbe",
   "metadata": {},
   "outputs": [
    {
     "data": {
      "text/plain": [
       "Kategori Pelanggan\n",
       "GRO       31416178119\n",
       "HTRSTO      693088538\n",
       "LGGN       4895343244\n",
       "UMUM       7626510796\n",
       "Name: Harga Bruto, dtype: int64"
      ]
     },
     "execution_count": 20,
     "metadata": {},
     "output_type": "execute_result"
    }
   ],
   "source": [
    "#Aggregate spendings from every customer category\n",
    "dataset.groupby(['Kategori Pelanggan'])['Harga Bruto'].sum()"
   ]
  },
  {
   "cell_type": "code",
   "execution_count": 21,
   "id": "1a114107",
   "metadata": {},
   "outputs": [
    {
     "data": {
      "text/plain": [
       "array(['GRO', 'UMUM', 'LGGN', 'HTRSTO'], dtype=object)"
      ]
     },
     "execution_count": 21,
     "metadata": {},
     "output_type": "execute_result"
    }
   ],
   "source": [
    "dataset['Kategori Pelanggan'].unique()"
   ]
  },
  {
   "cell_type": "code",
   "execution_count": 126,
   "id": "e1324484",
   "metadata": {},
   "outputs": [
    {
     "data": {
      "image/png": "[encoded data removed]",
      "text/plain": [
       "<Figure size 432x288 with 1 Axes>"
      ]
     },
     "metadata": {},
     "output_type": "display_data"
    }
   ],
   "source": [
    "#pie chart to see the proportion of income from each customer category\n",
    "labels = 'Grosir', 'Hotel&Rest', 'Langganan', 'Umum'\n",
    "penjualan = [31416178119, 693088538, 4895343244, 7626510796]\n",
    "explode = (0, 0, 0, 0) \n",
    "\n",
    "fig1, ax1 = plt.subplots()\n",
    "ax1.pie(penjualan, explode=explode, labels=labels, autopct='%1.1f%%',\n",
    "        shadow=True, startangle=90, colors = ['tomato', 'gold', 'skyblue','violet','lime'])\n",
    "ax1.set_title('Penjualan Berdasarkan Kategori Pelanggan', fontsize=14)\n",
    "ax1.axis('equal')  # Equal aspect ratio ensures that pie is drawn as a circle.\n",
    "\n",
    "plt.show()"
   ]
  },
  {
   "cell_type": "code",
   "execution_count": 158,
   "id": "abbce96d",
   "metadata": {},
   "outputs": [
    {
     "data": {
      "text/html": [
       "<div>\n",
       "<style scoped>\n",
       "    .dataframe tbody tr th:only-of-type {\n",
       "        vertical-align: middle;\n",
       "    }\n",
       "\n",
       "    .dataframe tbody tr th {\n",
       "        vertical-align: top;\n",
       "    }\n",
       "\n",
       "    .dataframe thead th {\n",
       "        text-align: right;\n",
       "    }\n",
       "</style>\n",
       "<table border=\"1\" class=\"dataframe\">\n",
       "  <thead>\n",
       "    <tr style=\"text-align: right;\">\n",
       "      <th></th>\n",
       "      <th>Gudang</th>\n",
       "      <th>Kode Pelanggan</th>\n",
       "      <th>Kategori Pelanggan</th>\n",
       "      <th>Kode Produk</th>\n",
       "      <th>Kategori Produk</th>\n",
       "      <th>Tanggal</th>\n",
       "      <th>No.Transaksi</th>\n",
       "      <th>Qty</th>\n",
       "      <th>Harga Bruto</th>\n",
       "      <th>Qty Trans</th>\n",
       "      <th>Harga Bruto Trans</th>\n",
       "    </tr>\n",
       "  </thead>\n",
       "  <tbody>\n",
       "    <tr>\n",
       "      <th>0</th>\n",
       "      <td>GGS</td>\n",
       "      <td>3170950</td>\n",
       "      <td>GRO</td>\n",
       "      <td>WJ-CHY-SP-12-SDR13</td>\n",
       "      <td>WAJAN</td>\n",
       "      <td>2018-09-01 00:00:00</td>\n",
       "      <td>2.83-180306.1125-504</td>\n",
       "      <td>3.0</td>\n",
       "      <td>18000</td>\n",
       "      <td>1.098612</td>\n",
       "      <td>134.164079</td>\n",
       "    </tr>\n",
       "    <tr>\n",
       "      <th>1</th>\n",
       "      <td>GGS</td>\n",
       "      <td>3170950</td>\n",
       "      <td>GRO</td>\n",
       "      <td>WJ-CHY-SP-16-SDR13</td>\n",
       "      <td>WAJAN</td>\n",
       "      <td>2018-09-01 00:00:00</td>\n",
       "      <td>2.83-180306.1125-504</td>\n",
       "      <td>3.0</td>\n",
       "      <td>33500</td>\n",
       "      <td>1.098612</td>\n",
       "      <td>183.030052</td>\n",
       "    </tr>\n",
       "    <tr>\n",
       "      <th>2</th>\n",
       "      <td>GGS</td>\n",
       "      <td>3170950</td>\n",
       "      <td>GRO</td>\n",
       "      <td>WJ-CHY-SP-18-SDR13</td>\n",
       "      <td>WAJAN</td>\n",
       "      <td>2018-09-01 00:00:00</td>\n",
       "      <td>2.83-180306.1125-504</td>\n",
       "      <td>3.0</td>\n",
       "      <td>48500</td>\n",
       "      <td>1.098612</td>\n",
       "      <td>220.227156</td>\n",
       "    </tr>\n",
       "    <tr>\n",
       "      <th>3</th>\n",
       "      <td>GGS</td>\n",
       "      <td>3170950</td>\n",
       "      <td>GRO</td>\n",
       "      <td>WJ-CHY-SP-22-SDR13</td>\n",
       "      <td>WAJAN</td>\n",
       "      <td>2018-09-01 00:00:00</td>\n",
       "      <td>2.83-180306.1125-504</td>\n",
       "      <td>3.0</td>\n",
       "      <td>65000</td>\n",
       "      <td>1.098612</td>\n",
       "      <td>254.950976</td>\n",
       "    </tr>\n",
       "    <tr>\n",
       "      <th>4</th>\n",
       "      <td>GGS</td>\n",
       "      <td>3170950</td>\n",
       "      <td>GRO</td>\n",
       "      <td>WJ-CHY-SP-20-SDR13</td>\n",
       "      <td>WAJAN</td>\n",
       "      <td>2018-09-01 00:00:00</td>\n",
       "      <td>2.83-180306.1125-504</td>\n",
       "      <td>3.0</td>\n",
       "      <td>55000</td>\n",
       "      <td>1.098612</td>\n",
       "      <td>234.520788</td>\n",
       "    </tr>\n",
       "  </tbody>\n",
       "</table>\n",
       "</div>"
      ],
      "text/plain": [
       "  Gudang Kode Pelanggan Kategori Pelanggan         Kode Produk  \\\n",
       "0    GGS        3170950                GRO  WJ-CHY-SP-12-SDR13   \n",
       "1    GGS        3170950                GRO  WJ-CHY-SP-16-SDR13   \n",
       "2    GGS        3170950                GRO  WJ-CHY-SP-18-SDR13   \n",
       "3    GGS        3170950                GRO  WJ-CHY-SP-22-SDR13   \n",
       "4    GGS        3170950                GRO  WJ-CHY-SP-20-SDR13   \n",
       "\n",
       "  Kategori Produk              Tanggal          No.Transaksi  Qty  \\\n",
       "0           WAJAN  2018-09-01 00:00:00  2.83-180306.1125-504  3.0   \n",
       "1           WAJAN  2018-09-01 00:00:00  2.83-180306.1125-504  3.0   \n",
       "2           WAJAN  2018-09-01 00:00:00  2.83-180306.1125-504  3.0   \n",
       "3           WAJAN  2018-09-01 00:00:00  2.83-180306.1125-504  3.0   \n",
       "4           WAJAN  2018-09-01 00:00:00  2.83-180306.1125-504  3.0   \n",
       "\n",
       "   Harga Bruto  Qty Trans  Harga Bruto Trans  \n",
       "0        18000   1.098612         134.164079  \n",
       "1        33500   1.098612         183.030052  \n",
       "2        48500   1.098612         220.227156  \n",
       "3        65000   1.098612         254.950976  \n",
       "4        55000   1.098612         234.520788  "
      ]
     },
     "execution_count": 158,
     "metadata": {},
     "output_type": "execute_result"
    }
   ],
   "source": [
    "#dataframe for GGS branch\n",
    "ggs_df = dataset[dataset['Gudang'] == 'GGS']\n",
    "ggs = pd.DataFrame(ggs_df)\n",
    "ggs.head(5)"
   ]
  },
  {
   "cell_type": "code",
   "execution_count": 159,
   "id": "53d4e768",
   "metadata": {},
   "outputs": [
    {
     "name": "stdout",
     "output_type": "stream",
     "text": [
      "                 Qty    Harga Bruto      Qty Trans  Harga Bruto Trans\n",
      "count  329881.000000  329881.000000  329881.000000      329881.000000\n",
      "mean        1.537991  119457.642795       0.245809         295.292784\n",
      "std         1.011012  135282.223916       0.594649         179.610446\n",
      "min         0.500000       0.000000      -0.693147           0.000000\n",
      "25%         1.000000   25500.000000       0.000000         159.687194\n",
      "50%         1.000000   65000.000000       0.000000         254.950976\n",
      "75%         2.000000  162500.000000       0.693147         403.112887\n",
      "max         5.500000  604000.000000       1.704748         777.174369\n"
     ]
    }
   ],
   "source": [
    "print(ggs.describe())"
   ]
  },
  {
   "cell_type": "code",
   "execution_count": 92,
   "id": "93992ed0",
   "metadata": {},
   "outputs": [
    {
     "name": "stdout",
     "output_type": "stream",
     "text": [
      "    Kategori Produk      sum\n",
      "77           LOYANG  29932.0\n",
      "162           WAJAN  26800.5\n",
      "96           PIRING  20057.0\n",
      "37            GELAS  18164.5\n",
      "28               DD  14817.5\n",
      "65           KOMPOR  13561.0\n",
      "112          SENDOK  13476.5\n",
      "154          TOPLES  12837.0\n",
      "102             RAK  12742.0\n",
      "100           POT-B  12641.5\n"
     ]
    }
   ],
   "source": [
    "#most sold product categories in GGS branch\n",
    "df_for_ggs = ggs[['Kategori Produk','Qty']].groupby(['Kategori Produk'])['Qty'].sum().reset_index(name='sum').sort_values(['sum'], ascending=False).head(10)\n",
    "print(df_for_ggs)"
   ]
  },
  {
   "cell_type": "code",
   "execution_count": 93,
   "id": "ba7dc865",
   "metadata": {},
   "outputs": [
    {
     "name": "stdout",
     "output_type": "stream",
     "text": [
      "    Kategori Produk      sum\n",
      "77           LOYANG  29932.0\n",
      "162           WAJAN  26800.5\n",
      "96           PIRING  20057.0\n",
      "37            GELAS  18164.5\n",
      "28               DD  14817.5\n",
      "65           KOMPOR  13561.0\n",
      "112          SENDOK  13476.5\n",
      "154          TOPLES  12837.0\n",
      "102             RAK  12742.0\n",
      "100           POT-B  12641.5\n"
     ]
    }
   ],
   "source": [
    "#convert the sorted data into dataframe\n",
    "dataggs = pd.DataFrame(df_for_ggs)\n",
    "print(dataggs)"
   ]
  },
  {
   "cell_type": "code",
   "execution_count": 148,
   "id": "8ceabcf7",
   "metadata": {},
   "outputs": [
    {
     "data": {
      "image/png": "[encoded data removed]",
      "text/plain": [
       "<Figure size 1440x360 with 1 Axes>"
      ]
     },
     "metadata": {
      "needs_background": "light"
     },
     "output_type": "display_data"
    }
   ],
   "source": [
    "#Visualize with bar chart\n",
    "names = dataggs[\"Kategori Produk\"]\n",
    "values = dataggs[\"sum\"]\n",
    "\n",
    "plt.figure(figsize=(20, 5))\n",
    "plt.title(\"Penjualan Terbanyak Toko GGS\", fontsize = 20)\n",
    "plt.xlabel (\"Kategori Produk\", fontsize = 10)\n",
    "plt.ylabel(\"Banyak Penjualan\", fontsize = 10)\n",
    "\n",
    "plt.bar(names, values, color = (1, 0, 0.5, 1))\n",
    "plt.show()"
   ]
  },
  {
   "cell_type": "code",
   "execution_count": 156,
   "id": "2c07cc5f",
   "metadata": {},
   "outputs": [
    {
     "data": {
      "text/html": [
       "<div>\n",
       "<style scoped>\n",
       "    .dataframe tbody tr th:only-of-type {\n",
       "        vertical-align: middle;\n",
       "    }\n",
       "\n",
       "    .dataframe tbody tr th {\n",
       "        vertical-align: top;\n",
       "    }\n",
       "\n",
       "    .dataframe thead th {\n",
       "        text-align: right;\n",
       "    }\n",
       "</style>\n",
       "<table border=\"1\" class=\"dataframe\">\n",
       "  <thead>\n",
       "    <tr style=\"text-align: right;\">\n",
       "      <th></th>\n",
       "      <th>Gudang</th>\n",
       "      <th>Kode Pelanggan</th>\n",
       "      <th>Kategori Pelanggan</th>\n",
       "      <th>Kode Produk</th>\n",
       "      <th>Kategori Produk</th>\n",
       "      <th>Tanggal</th>\n",
       "      <th>No.Transaksi</th>\n",
       "      <th>Qty</th>\n",
       "      <th>Harga Bruto</th>\n",
       "      <th>Qty Trans</th>\n",
       "      <th>Harga Bruto Trans</th>\n",
       "    </tr>\n",
       "  </thead>\n",
       "  <tbody>\n",
       "    <tr>\n",
       "      <th>339637</th>\n",
       "      <td>GHL</td>\n",
       "      <td>UMUM</td>\n",
       "      <td>UMUM</td>\n",
       "      <td>TOP-PLAS-0004-KH01</td>\n",
       "      <td>TOPLES</td>\n",
       "      <td>2018-09-01 00:00:00</td>\n",
       "      <td>2.50-180827.0905-156</td>\n",
       "      <td>1.0</td>\n",
       "      <td>3500</td>\n",
       "      <td>0.0</td>\n",
       "      <td>59.160798</td>\n",
       "    </tr>\n",
       "    <tr>\n",
       "      <th>339638</th>\n",
       "      <td>GHL</td>\n",
       "      <td>UMUM</td>\n",
       "      <td>UMUM</td>\n",
       "      <td>WJ-060003</td>\n",
       "      <td>WAJAN</td>\n",
       "      <td>2018-09-01 00:00:00</td>\n",
       "      <td>2.50-180827.0907-157</td>\n",
       "      <td>1.0</td>\n",
       "      <td>179500</td>\n",
       "      <td>0.0</td>\n",
       "      <td>423.674403</td>\n",
       "    </tr>\n",
       "    <tr>\n",
       "      <th>339639</th>\n",
       "      <td>GHL</td>\n",
       "      <td>UMUM</td>\n",
       "      <td>UMUM</td>\n",
       "      <td>EROS-RJ-BSR</td>\n",
       "      <td>SENDOK</td>\n",
       "      <td>2018-09-01 00:00:00</td>\n",
       "      <td>2.50-180827.0856-156</td>\n",
       "      <td>1.0</td>\n",
       "      <td>9000</td>\n",
       "      <td>0.0</td>\n",
       "      <td>94.868330</td>\n",
       "    </tr>\n",
       "    <tr>\n",
       "      <th>339640</th>\n",
       "      <td>GHL</td>\n",
       "      <td>UMUM</td>\n",
       "      <td>UMUM</td>\n",
       "      <td>TOP-PLAS-0004-KH01</td>\n",
       "      <td>TOPLES</td>\n",
       "      <td>2018-09-01 00:00:00</td>\n",
       "      <td>2.50-180827.0856-156</td>\n",
       "      <td>1.0</td>\n",
       "      <td>3500</td>\n",
       "      <td>0.0</td>\n",
       "      <td>59.160798</td>\n",
       "    </tr>\n",
       "    <tr>\n",
       "      <th>339641</th>\n",
       "      <td>GHL</td>\n",
       "      <td>UMUM</td>\n",
       "      <td>UMUM</td>\n",
       "      <td>LOY-R-12-DMI01</td>\n",
       "      <td>LOYANG</td>\n",
       "      <td>2018-09-01 00:00:00</td>\n",
       "      <td>2.50-180827.0856-156</td>\n",
       "      <td>1.0</td>\n",
       "      <td>7500</td>\n",
       "      <td>0.0</td>\n",
       "      <td>86.602540</td>\n",
       "    </tr>\n",
       "  </tbody>\n",
       "</table>\n",
       "</div>"
      ],
      "text/plain": [
       "       Gudang Kode Pelanggan Kategori Pelanggan         Kode Produk  \\\n",
       "339637    GHL           UMUM               UMUM  TOP-PLAS-0004-KH01   \n",
       "339638    GHL           UMUM               UMUM           WJ-060003   \n",
       "339639    GHL           UMUM               UMUM         EROS-RJ-BSR   \n",
       "339640    GHL           UMUM               UMUM  TOP-PLAS-0004-KH01   \n",
       "339641    GHL           UMUM               UMUM      LOY-R-12-DMI01   \n",
       "\n",
       "       Kategori Produk              Tanggal          No.Transaksi  Qty  \\\n",
       "339637          TOPLES  2018-09-01 00:00:00  2.50-180827.0905-156  1.0   \n",
       "339638           WAJAN  2018-09-01 00:00:00  2.50-180827.0907-157  1.0   \n",
       "339639          SENDOK  2018-09-01 00:00:00  2.50-180827.0856-156  1.0   \n",
       "339640          TOPLES  2018-09-01 00:00:00  2.50-180827.0856-156  1.0   \n",
       "339641          LOYANG  2018-09-01 00:00:00  2.50-180827.0856-156  1.0   \n",
       "\n",
       "        Harga Bruto  Qty Trans  Harga Bruto Trans  \n",
       "339637         3500        0.0          59.160798  \n",
       "339638       179500        0.0         423.674403  \n",
       "339639         9000        0.0          94.868330  \n",
       "339640         3500        0.0          59.160798  \n",
       "339641         7500        0.0          86.602540  "
      ]
     },
     "execution_count": 156,
     "metadata": {},
     "output_type": "execute_result"
    }
   ],
   "source": [
    "#dataframe for GHL branch\n",
    "ghl_df = dataset[dataset['Gudang'] == 'GHL']\n",
    "ghl = pd.DataFrame(ghl_df)\n",
    "ghl.head(5)"
   ]
  },
  {
   "cell_type": "code",
   "execution_count": 157,
   "id": "9ef47d30",
   "metadata": {},
   "outputs": [
    {
     "name": "stdout",
     "output_type": "stream",
     "text": [
      "                Qty    Harga Bruto     Qty Trans  Harga Bruto Trans\n",
      "count  90514.000000   90514.000000  90514.000000       90514.000000\n",
      "mean       1.187788   52252.039497      0.092106         178.373326\n",
      "std        0.595037   86248.516308      0.366886         142.951816\n",
      "min        0.500000       1.000000     -0.693147           1.000000\n",
      "25%        1.000000    7500.000000      0.000000          86.602540\n",
      "50%        1.000000   20500.000000      0.000000         143.178211\n",
      "75%        1.000000   55000.000000      0.000000         234.520788\n",
      "max        5.500000  601000.000000      1.704748         775.241898\n"
     ]
    }
   ],
   "source": [
    "print(ghl.describe())"
   ]
  },
  {
   "cell_type": "code",
   "execution_count": 96,
   "id": "679ded5c",
   "metadata": {},
   "outputs": [
    {
     "name": "stdout",
     "output_type": "stream",
     "text": [
      "    Kategori Produk      sum\n",
      "99              TAS  9913.00\n",
      "30            GELAS  5930.04\n",
      "55           LOYANG  4758.00\n",
      "107          TOPLES  4579.50\n",
      "84           SENDOK  4217.00\n",
      "75            POT-B  4169.00\n",
      "71           PIRING  3738.50\n",
      "56           MANGKO  3112.00\n",
      "48             KRJG  3003.50\n",
      "110           WADAH  2989.50\n"
     ]
    }
   ],
   "source": [
    "#most sold product categories in GHL branch\n",
    "df_for_ghl = ghl[['Kategori Produk','Qty']].groupby(['Kategori Produk'])['Qty'].sum().reset_index(name='sum').sort_values(['sum'], ascending=False).head(10)\n",
    "print(df_for_ghl)"
   ]
  },
  {
   "cell_type": "code",
   "execution_count": 97,
   "id": "af5c7aa6",
   "metadata": {},
   "outputs": [
    {
     "name": "stdout",
     "output_type": "stream",
     "text": [
      "    Kategori Produk      sum\n",
      "99              TAS  9913.00\n",
      "30            GELAS  5930.04\n",
      "55           LOYANG  4758.00\n",
      "107          TOPLES  4579.50\n",
      "84           SENDOK  4217.00\n",
      "75            POT-B  4169.00\n",
      "71           PIRING  3738.50\n",
      "56           MANGKO  3112.00\n",
      "48             KRJG  3003.50\n",
      "110           WADAH  2989.50\n"
     ]
    }
   ],
   "source": [
    "#convert the sorted data into dataframe\n",
    "dataghl = pd.DataFrame(df_for_ghl)\n",
    "print(dataghl)"
   ]
  },
  {
   "cell_type": "code",
   "execution_count": 149,
   "id": "e0d31723",
   "metadata": {},
   "outputs": [
    {
     "data": {
      "image/png": "[encoded data removed]",
      "text/plain": [
       "<Figure size 1440x360 with 1 Axes>"
      ]
     },
     "metadata": {
      "needs_background": "light"
     },
     "output_type": "display_data"
    }
   ],
   "source": [
    "#Visualize with bar chart\n",
    "names = dataghl[\"Kategori Produk\"]\n",
    "values = dataghl[\"sum\"]\n",
    "\n",
    "plt.figure(figsize=(20, 5))\n",
    "plt.title(\"Penjualan Terbanyak Toko GHL\", fontsize = 20)\n",
    "plt.xlabel (\"Kategori Produk\", fontsize = 10)\n",
    "plt.ylabel(\"Banyak Penjualan\", fontsize = 10)\n",
    "\n",
    "plt.bar(names, values, color = (0, 0.75, 0.5, 1))\n",
    "plt.show()"
   ]
  },
  {
   "cell_type": "code",
   "execution_count": 163,
   "id": "43161dfd",
   "metadata": {},
   "outputs": [
    {
     "data": {
      "text/html": [
       "<div>\n",
       "<style scoped>\n",
       "    .dataframe tbody tr th:only-of-type {\n",
       "        vertical-align: middle;\n",
       "    }\n",
       "\n",
       "    .dataframe tbody tr th {\n",
       "        vertical-align: top;\n",
       "    }\n",
       "\n",
       "    .dataframe thead th {\n",
       "        text-align: right;\n",
       "    }\n",
       "</style>\n",
       "<table border=\"1\" class=\"dataframe\">\n",
       "  <thead>\n",
       "    <tr style=\"text-align: right;\">\n",
       "      <th></th>\n",
       "      <th>Gudang</th>\n",
       "      <th>Kode Pelanggan</th>\n",
       "      <th>Kategori Pelanggan</th>\n",
       "      <th>Kode Produk</th>\n",
       "      <th>Kategori Produk</th>\n",
       "      <th>Tanggal</th>\n",
       "      <th>No.Transaksi</th>\n",
       "      <th>Qty</th>\n",
       "      <th>Harga Bruto</th>\n",
       "      <th>Qty Trans</th>\n",
       "      <th>Harga Bruto Trans</th>\n",
       "    </tr>\n",
       "  </thead>\n",
       "  <tbody>\n",
       "    <tr>\n",
       "      <th>329881</th>\n",
       "      <td>GHI</td>\n",
       "      <td>UMUM</td>\n",
       "      <td>UMUM</td>\n",
       "      <td>CEL-KAL-JUMBO-NP</td>\n",
       "      <td>CEL</td>\n",
       "      <td>2018-09-01 00:00:00</td>\n",
       "      <td>2.56-180807.0848-149</td>\n",
       "      <td>1.0</td>\n",
       "      <td>11750</td>\n",
       "      <td>0.000000</td>\n",
       "      <td>108.397417</td>\n",
       "    </tr>\n",
       "    <tr>\n",
       "      <th>329882</th>\n",
       "      <td>GHI</td>\n",
       "      <td>UMUM</td>\n",
       "      <td>UMUM</td>\n",
       "      <td>CEL-KAL-XL</td>\n",
       "      <td>CEL</td>\n",
       "      <td>2018-09-01 00:00:00</td>\n",
       "      <td>2.56-180807.0848-149</td>\n",
       "      <td>1.0</td>\n",
       "      <td>13000</td>\n",
       "      <td>0.000000</td>\n",
       "      <td>114.017543</td>\n",
       "    </tr>\n",
       "    <tr>\n",
       "      <th>329883</th>\n",
       "      <td>GHI</td>\n",
       "      <td>UMUM</td>\n",
       "      <td>UMUM</td>\n",
       "      <td>SKTKAIN-0007-SDR13</td>\n",
       "      <td>SIKAT</td>\n",
       "      <td>2018-09-01 00:00:00</td>\n",
       "      <td>2.56-180807.0848-149</td>\n",
       "      <td>1.0</td>\n",
       "      <td>7750</td>\n",
       "      <td>0.000000</td>\n",
       "      <td>88.034084</td>\n",
       "    </tr>\n",
       "    <tr>\n",
       "      <th>329884</th>\n",
       "      <td>GHI</td>\n",
       "      <td>UMUM</td>\n",
       "      <td>UMUM</td>\n",
       "      <td>KESET-0099-STJ15</td>\n",
       "      <td>ALAS</td>\n",
       "      <td>2018-09-01 00:00:00</td>\n",
       "      <td>2.56-180807.0848-149</td>\n",
       "      <td>2.0</td>\n",
       "      <td>10000</td>\n",
       "      <td>0.693147</td>\n",
       "      <td>100.000000</td>\n",
       "    </tr>\n",
       "    <tr>\n",
       "      <th>329885</th>\n",
       "      <td>GHI</td>\n",
       "      <td>UMUM</td>\n",
       "      <td>UMUM</td>\n",
       "      <td>SAPU-0458-SDR13</td>\n",
       "      <td>SAPU</td>\n",
       "      <td>2018-09-01 00:00:00</td>\n",
       "      <td>2.56-180807.0848-149</td>\n",
       "      <td>1.0</td>\n",
       "      <td>61000</td>\n",
       "      <td>0.000000</td>\n",
       "      <td>246.981781</td>\n",
       "    </tr>\n",
       "  </tbody>\n",
       "</table>\n",
       "</div>"
      ],
      "text/plain": [
       "       Gudang Kode Pelanggan Kategori Pelanggan         Kode Produk  \\\n",
       "329881    GHI           UMUM               UMUM    CEL-KAL-JUMBO-NP   \n",
       "329882    GHI           UMUM               UMUM          CEL-KAL-XL   \n",
       "329883    GHI           UMUM               UMUM  SKTKAIN-0007-SDR13   \n",
       "329884    GHI           UMUM               UMUM    KESET-0099-STJ15   \n",
       "329885    GHI           UMUM               UMUM     SAPU-0458-SDR13   \n",
       "\n",
       "       Kategori Produk              Tanggal          No.Transaksi  Qty  \\\n",
       "329881             CEL  2018-09-01 00:00:00  2.56-180807.0848-149  1.0   \n",
       "329882             CEL  2018-09-01 00:00:00  2.56-180807.0848-149  1.0   \n",
       "329883           SIKAT  2018-09-01 00:00:00  2.56-180807.0848-149  1.0   \n",
       "329884            ALAS  2018-09-01 00:00:00  2.56-180807.0848-149  2.0   \n",
       "329885            SAPU  2018-09-01 00:00:00  2.56-180807.0848-149  1.0   \n",
       "\n",
       "        Harga Bruto  Qty Trans  Harga Bruto Trans  \n",
       "329881        11750   0.000000         108.397417  \n",
       "329882        13000   0.000000         114.017543  \n",
       "329883         7750   0.000000          88.034084  \n",
       "329884        10000   0.693147         100.000000  \n",
       "329885        61000   0.000000         246.981781  "
      ]
     },
     "execution_count": 163,
     "metadata": {},
     "output_type": "execute_result"
    }
   ],
   "source": [
    "#dataframe for GHI branch\n",
    "ghi_df = dataset[dataset['Gudang'] == 'GHI']\n",
    "ghi = pd.DataFrame(ghi_df)\n",
    "ghi.head(5)"
   ]
  },
  {
   "cell_type": "code",
   "execution_count": 169,
   "id": "22d061cf",
   "metadata": {},
   "outputs": [
    {
     "name": "stdout",
     "output_type": "stream",
     "text": [
      "               Qty    Harga Bruto    Qty Trans  Harga Bruto Trans\n",
      "count  9756.000000    9756.000000  9756.000000        9756.000000\n",
      "mean      1.209538   50714.732575     0.102615         176.055822\n",
      "std       0.632858   87020.749866     0.384606         140.431840\n",
      "min       0.500000       0.000000    -0.693147           0.000000\n",
      "25%       1.000000    8500.000000     0.000000          92.195445\n",
      "50%       1.000000   20000.000000     0.000000         141.421356\n",
      "75%       1.000000   50000.000000     0.000000         223.606798\n",
      "max       5.500000  600000.000000     1.704748         774.596669\n"
     ]
    }
   ],
   "source": [
    "print(ghi.describe())"
   ]
  },
  {
   "cell_type": "code",
   "execution_count": 165,
   "id": "5dd5a8db",
   "metadata": {},
   "outputs": [
    {
     "name": "stdout",
     "output_type": "stream",
     "text": [
      "    Kategori Produk     sum\n",
      "97              TAS  972.00\n",
      "105          TOPLES  870.00\n",
      "55           LOYANG  618.00\n",
      "69           PERLAK  460.25\n",
      "71           PIRING  424.50\n",
      "14            BOTOL  392.50\n",
      "30            GELAS  386.00\n",
      "83           SENDOK  380.50\n",
      "75            POT-B  342.50\n",
      "108           WADAH  301.00\n"
     ]
    }
   ],
   "source": [
    "#most sold product categories in GHI branch\n",
    "df_for_ghi = ghi[['Kategori Produk','Qty']].groupby(['Kategori Produk'])['Qty'].sum().reset_index(name='sum').sort_values(['sum'], ascending=False).head(10)\n",
    "print(df_for_ghi)"
   ]
  },
  {
   "cell_type": "code",
   "execution_count": 166,
   "id": "501b2c5a",
   "metadata": {},
   "outputs": [
    {
     "name": "stdout",
     "output_type": "stream",
     "text": [
      "    Kategori Produk     sum\n",
      "97              TAS  972.00\n",
      "105          TOPLES  870.00\n",
      "55           LOYANG  618.00\n",
      "69           PERLAK  460.25\n",
      "71           PIRING  424.50\n",
      "14            BOTOL  392.50\n",
      "30            GELAS  386.00\n",
      "83           SENDOK  380.50\n",
      "75            POT-B  342.50\n",
      "108           WADAH  301.00\n"
     ]
    }
   ],
   "source": [
    "#convert the sorted data into dataframe\n",
    "dataghi = pd.DataFrame(df_for_ghi)\n",
    "print(dataghi)"
   ]
  },
  {
   "cell_type": "code",
   "execution_count": 168,
   "id": "f405b162",
   "metadata": {
    "scrolled": true
   },
   "outputs": [
    {
     "data": {
      "image/png": "[encoded data removed]",
      "text/plain": [
       "<Figure size 1440x360 with 1 Axes>"
      ]
     },
     "metadata": {
      "needs_background": "light"
     },
     "output_type": "display_data"
    }
   ],
   "source": [
    "#Visualize with bar chart\n",
    "names = dataghi[\"Kategori Produk\"]\n",
    "values = dataghi[\"sum\"]\n",
    "\n",
    "plt.figure(figsize=(20, 5))\n",
    "plt.title(\"Penjualan Terbanyak Toko GHI\", fontsize = 20)\n",
    "plt.xlabel (\"Kategori Produk\", fontsize = 10)\n",
    "plt.ylabel(\"Banyak Penjualan\", fontsize = 10)\n",
    "\n",
    "plt.bar(names, values, color = (0, 0.25, 0.85, 1))\n",
    "plt.show()"
   ]
  },
  {
   "cell_type": "code",
   "execution_count": 180,
   "id": "6cf70f28",
   "metadata": {
    "scrolled": true
   },
   "outputs": [],
   "source": [
    "#import RFM dataset\n",
    "df2 = pd.read_excel('final.xlsx')\n",
    "df2.head()\n",
    "df2 = df2.sample(n=150, random_state=15)"
   ]
  },
  {
   "cell_type": "code",
   "execution_count": 181,
   "id": "b770a6a8",
   "metadata": {},
   "outputs": [
    {
     "data": {
      "image/png": "[encoded data removed]",
      "text/plain": [
       "<Figure size 720x432 with 2 Axes>"
      ]
     },
     "metadata": {
      "needs_background": "light"
     },
     "output_type": "display_data"
    }
   ],
   "source": [
    "plt.figure(figsize = (10, 6))\n",
    "sns.heatmap(df2.corr(),vmin=-1, vmax=1, center=0, annot = True, cmap=\"mako\")\n",
    "plt.title(\"Correlation Plot between Variables\")\n",
    "plt.show()"
   ]
  },
  {
   "cell_type": "code",
   "execution_count": 4,
   "id": "ff85f876",
   "metadata": {},
   "outputs": [
    {
     "data": {
      "application/vnd.jupyter.widget-view+json": {
       "model_id": "fa5db687d010425f91c2e764f881f7b9",
       "version_major": 2,
       "version_minor": 0
      },
      "text/plain": [
       "Summarize dataset:   0%|          | 0/5 [00:00<?, ?it/s]"
      ]
     },
     "metadata": {},
     "output_type": "display_data"
    },
    {
     "data": {
      "application/vnd.jupyter.widget-view+json": {
       "model_id": "fcdf93cff5274ac1b1529f0242db831f",
       "version_major": 2,
       "version_minor": 0
      },
      "text/plain": [
       "Generate report structure:   0%|          | 0/1 [00:00<?, ?it/s]"
      ]
     },
     "metadata": {},
     "output_type": "display_data"
    },
    {
     "data": {
      "application/vnd.jupyter.widget-view+json": {
       "model_id": "51dde2a1049c4d98bd5cc06b8ef54aeb",
       "version_major": 2,
       "version_minor": 0
      },
      "text/plain": [
       "Render HTML:   0%|          | 0/1 [00:00<?, ?it/s]"
      ]
     },
     "metadata": {},
     "output_type": "display_data"
    },
    {
     "data": {
      "application/vnd.jupyter.widget-view+json": {
       "model_id": "8f0c151c2e074839851153e522d8c29d",
       "version_major": 2,
       "version_minor": 0
      },
      "text/plain": [
       "Export report to file:   0%|          | 0/1 [00:00<?, ?it/s]"
      ]
     },
     "metadata": {},
     "output_type": "display_data"
    }
   ],
   "source": [
    "#Additional exploration\n",
    "profile = ProfileReport(dataset, title=\"Pandas Profiling Report 2\", explorative=True)\n",
    "\n",
    "profile.to_file(\"Report Profiling 2.html\")"
   ]
  }
 ],
 "metadata": {
  "kernelspec": {
   "display_name": "Python 3 (ipykernel)",
   "language": "python",
   "name": "python3"
  },
  "language_info": {
   "codemirror_mode": {
    "name": "ipython",
    "version": 3
   },
   "file_extension": ".py",
   "mimetype": "text/x-python",
   "name": "python",
   "nbconvert_exporter": "python",
   "pygments_lexer": "ipython3",
   "version": "3.9.13"
  }
 },
 "nbformat": 4,
 "nbformat_minor": 5
}
